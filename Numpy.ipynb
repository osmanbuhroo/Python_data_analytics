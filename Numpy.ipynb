{
 "cells": [
  {
   "cell_type": "code",
   "execution_count": 1,
   "id": "d3ed5dde",
   "metadata": {},
   "outputs": [],
   "source": [
    "import numpy as np\n",
    "\n",
    "l1=[1,2,3,4,5,6,7]\n",
    "\n",
    "n1=np.array(l1)\n",
    "\n"
   ]
  },
  {
   "cell_type": "code",
   "execution_count": 2,
   "id": "3a423205",
   "metadata": {},
   "outputs": [
    {
     "data": {
      "text/plain": [
       "array([1, 2, 3, 4, 5, 6, 7])"
      ]
     },
     "execution_count": 2,
     "metadata": {},
     "output_type": "execute_result"
    }
   ],
   "source": [
    "n1\n"
   ]
  },
  {
   "cell_type": "code",
   "execution_count": 3,
   "id": "87f3763a",
   "metadata": {},
   "outputs": [],
   "source": [
    "l2=[1,2,3,4,5]\n",
    "l3=[6,7,8,9,6]\n",
    "\n",
    "n2=np.array([[l2],[l3]])"
   ]
  },
  {
   "cell_type": "code",
   "execution_count": 4,
   "id": "4f6196f2",
   "metadata": {},
   "outputs": [
    {
     "data": {
      "text/plain": [
       "array([[[1, 2, 3, 4, 5]],\n",
       "\n",
       "       [[6, 7, 8, 9, 6]]])"
      ]
     },
     "execution_count": 4,
     "metadata": {},
     "output_type": "execute_result"
    }
   ],
   "source": [
    "n2"
   ]
  },
  {
   "cell_type": "code",
   "execution_count": 8,
   "id": "da2ab22a",
   "metadata": {},
   "outputs": [
    {
     "data": {
      "text/plain": [
       "array([[0., 0., 0.],\n",
       "       [0., 0., 0.]])"
      ]
     },
     "execution_count": 8,
     "metadata": {},
     "output_type": "execute_result"
    }
   ],
   "source": [
    "n3 = np.zeros((2,3))\n",
    "n3\n"
   ]
  },
  {
   "cell_type": "code",
   "execution_count": 11,
   "id": "df201e27",
   "metadata": {},
   "outputs": [
    {
     "data": {
      "text/plain": [
       "array([[10, 10],\n",
       "       [10, 10]])"
      ]
     },
     "execution_count": 11,
     "metadata": {},
     "output_type": "execute_result"
    }
   ],
   "source": [
    "n4 = np.full((2,2),10)\n",
    "n4"
   ]
  },
  {
   "cell_type": "code",
   "execution_count": 14,
   "id": "53fb30ea",
   "metadata": {},
   "outputs": [
    {
     "data": {
      "text/plain": [
       "array([10, 12, 14, 16, 18])"
      ]
     },
     "execution_count": 14,
     "metadata": {},
     "output_type": "execute_result"
    }
   ],
   "source": [
    "n5 = np.arange(10,20,2)\n",
    "n5"
   ]
  },
  {
   "cell_type": "code",
   "execution_count": 13,
   "id": "f16f2779",
   "metadata": {},
   "outputs": [
    {
     "data": {
      "text/plain": [
       "(7,)"
      ]
     },
     "execution_count": 13,
     "metadata": {},
     "output_type": "execute_result"
    }
   ],
   "source": [
    "n1.shape"
   ]
  },
  {
   "cell_type": "code",
   "execution_count": 17,
   "id": "4cd7bdbb",
   "metadata": {},
   "outputs": [
    {
     "data": {
      "text/plain": [
       "array([106, 161, 135, 145, 101, 145, 151, 122, 113, 186])"
      ]
     },
     "execution_count": 17,
     "metadata": {},
     "output_type": "execute_result"
    }
   ],
   "source": [
    "n6=np.random.randint(100,200,10)\n",
    "n6"
   ]
  },
  {
   "cell_type": "code",
   "execution_count": 23,
   "id": "ce34c554",
   "metadata": {},
   "outputs": [
    {
     "data": {
      "text/plain": [
       "array([[[1, 2, 3, 4, 5]],\n",
       "\n",
       "       [[6, 7, 8, 9, 6]],\n",
       "\n",
       "       [[9, 8, 7, 6, 5]]])"
      ]
     },
     "execution_count": 23,
     "metadata": {},
     "output_type": "execute_result"
    }
   ],
   "source": [
    "l2=[1,2,3,4,5]\n",
    "l3=[6,7,8,9,6]\n",
    "l4=[9,8,7,6,5]\n",
    "\n",
    "n2=np.array([[l2],[l3],[l4]])\n",
    "n2"
   ]
  },
  {
   "cell_type": "code",
   "execution_count": 26,
   "id": "97723b42",
   "metadata": {},
   "outputs": [],
   "source": [
    "l1=[1,2,3,4,5]\n",
    "l2=[1,2,3,4,5]\n",
    "\n",
    "n1=np.array(l1)\n",
    "n2=np.array(l2)"
   ]
  },
  {
   "cell_type": "code",
   "execution_count": 28,
   "id": "decbb0b5",
   "metadata": {},
   "outputs": [
    {
     "data": {
      "text/plain": [
       "array([[1, 2, 3, 4, 5],\n",
       "       [1, 2, 3, 4, 5]])"
      ]
     },
     "execution_count": 28,
     "metadata": {},
     "output_type": "execute_result"
    }
   ],
   "source": [
    "np.vstack((n1,n2))"
   ]
  },
  {
   "cell_type": "code",
   "execution_count": 29,
   "id": "4987ef53",
   "metadata": {},
   "outputs": [
    {
     "data": {
      "text/plain": [
       "array([1, 2, 3, 4, 5, 1, 2, 3, 4, 5])"
      ]
     },
     "execution_count": 29,
     "metadata": {},
     "output_type": "execute_result"
    }
   ],
   "source": [
    "np.hstack((n1,n2))\n"
   ]
  },
  {
   "cell_type": "code",
   "execution_count": 30,
   "id": "912e77a3",
   "metadata": {},
   "outputs": [
    {
     "data": {
      "text/plain": [
       "array([[1, 1],\n",
       "       [2, 2],\n",
       "       [3, 3],\n",
       "       [4, 4],\n",
       "       [5, 5]])"
      ]
     },
     "execution_count": 30,
     "metadata": {},
     "output_type": "execute_result"
    }
   ],
   "source": [
    "np.column_stack((n1,n2))"
   ]
  },
  {
   "cell_type": "code",
   "execution_count": 41,
   "id": "45d621fe",
   "metadata": {},
   "outputs": [
    {
     "data": {
      "text/plain": [
       "array([ 6,  7,  8,  9, 10])"
      ]
     },
     "execution_count": 41,
     "metadata": {},
     "output_type": "execute_result"
    }
   ],
   "source": [
    "\n",
    "l1=[1,2,3,4,5]\n",
    "l2=[5,6,7,8,3]\n",
    "\n",
    "n1=np.array(l1)\n",
    "n2=np.array(l2)\n",
    "n1=n1+5\n",
    "n1\n"
   ]
  },
  {
   "cell_type": "code",
   "execution_count": 37,
   "id": "16a30103",
   "metadata": {},
   "outputs": [
    {
     "data": {
      "text/plain": [
       "array([15, 29])"
      ]
     },
     "execution_count": 37,
     "metadata": {},
     "output_type": "execute_result"
    }
   ],
   "source": [
    "s1=np.sum((n1,n2),axis=1)\n",
    "s1"
   ]
  },
  {
   "cell_type": "code",
   "execution_count": 34,
   "id": "5e1f0d24",
   "metadata": {},
   "outputs": [
    {
     "data": {
      "text/plain": [
       "array([1, 2, 4])"
      ]
     },
     "execution_count": 34,
     "metadata": {},
     "output_type": "execute_result"
    }
   ],
   "source": [
    "a2 =np.setdiff1d(n1,n2)\n",
    "a2"
   ]
  },
  {
   "cell_type": "code",
   "execution_count": 42,
   "id": "19f38001",
   "metadata": {},
   "outputs": [
    {
     "data": {
      "text/plain": [
       "array([6, 7, 8])"
      ]
     },
     "execution_count": 42,
     "metadata": {},
     "output_type": "execute_result"
    }
   ],
   "source": [
    "a1=np.intersect1d(n1,n2)\n",
    "\n",
    "a1"
   ]
  },
  {
   "cell_type": "code",
   "execution_count": null,
   "id": "0a879a2b",
   "metadata": {},
   "outputs": [],
   "source": []
  }
 ],
 "metadata": {
  "kernelspec": {
   "display_name": "Python 3 (ipykernel)",
   "language": "python",
   "name": "python3"
  },
  "language_info": {
   "codemirror_mode": {
    "name": "ipython",
    "version": 3
   },
   "file_extension": ".py",
   "mimetype": "text/x-python",
   "name": "python",
   "nbconvert_exporter": "python",
   "pygments_lexer": "ipython3",
   "version": "3.9.13"
  }
 },
 "nbformat": 4,
 "nbformat_minor": 5
}
