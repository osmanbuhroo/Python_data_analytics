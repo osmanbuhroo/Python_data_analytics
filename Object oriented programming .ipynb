{
 "cells": [
  {
   "cell_type": "code",
   "execution_count": 5,
   "id": "d19f3c2c",
   "metadata": {},
   "outputs": [],
   "source": [
    "class Phone:\n",
    "    def set_color(self,color):\n",
    "        self.color=color\n",
    "        \n",
    "    def get_color(self):\n",
    "        return self.color\n",
    "    \n",
    "    def make_call(self):\n",
    "        print(\"calling intiated\")\n",
    "\n",
    "        "
   ]
  },
  {
   "cell_type": "code",
   "execution_count": 7,
   "id": "c9b68999",
   "metadata": {},
   "outputs": [
    {
     "name": "stdout",
     "output_type": "stream",
     "text": [
      "calling intiated\n"
     ]
    },
    {
     "data": {
      "text/plain": [
       "'blue'"
      ]
     },
     "execution_count": 7,
     "metadata": {},
     "output_type": "execute_result"
    }
   ],
   "source": [
    "obj_phone=Phone()\n",
    "obj_phone.make_call()\n",
    "obj_phone.set_color(\"blue\")\n",
    "obj_phone.get_color()"
   ]
  },
  {
   "cell_type": "code",
   "execution_count": 29,
   "id": "2327da3c",
   "metadata": {},
   "outputs": [],
   "source": [
    "class Vechile():\n",
    "    def __init__(self,price,milage):\n",
    "        self.price=price\n",
    "        self.milage=milage\n",
    "        \n",
    "    def get_details(self):\n",
    "        print(\"price= \", self.price)\n",
    "        print(\"milage=\",self.milage)\n",
    "        \n"
   ]
  },
  {
   "cell_type": "code",
   "execution_count": 42,
   "id": "f439afb6",
   "metadata": {},
   "outputs": [],
   "source": [
    "class Car(Vechile):\n",
    "    def __init__(self,price,milage,cname):\n",
    "        super().__init__(price,milage)\n",
    "        self.cname=cname\n",
    "    def details_car(self):\n",
    "        print(\"car is fantastic\",self.cname)\n",
    "        \n"
   ]
  },
  {
   "cell_type": "code",
   "execution_count": 43,
   "id": "4ae25120",
   "metadata": {},
   "outputs": [],
   "source": [
    "tata= Car(12000,50,\"i20 sports\")\n"
   ]
  },
  {
   "cell_type": "code",
   "execution_count": 44,
   "id": "b2a2d59e",
   "metadata": {},
   "outputs": [
    {
     "name": "stdout",
     "output_type": "stream",
     "text": [
      "car is fantastic i20 sports\n",
      "price=  12000\n",
      "milage= 50\n"
     ]
    }
   ],
   "source": [
    "tata.details_car()\n",
    "tata.get_details()\n"
   ]
  },
  {
   "cell_type": "code",
   "execution_count": 48,
   "id": "788995f2",
   "metadata": {},
   "outputs": [
    {
     "name": "stdout",
     "output_type": "stream",
     "text": [
      "enter val of n1 : 2\n",
      "even\n"
     ]
    }
   ],
   "source": [
    "is_even=lambda x:x%2==0\n",
    "num = int(input(\"enter val of n1 : \"))\n",
    "if is_even(num):\n",
    "    print(\"even\")\n",
    "else:\n",
    "    print(\"odd\")"
   ]
  },
  {
   "cell_type": "code",
   "execution_count": 62,
   "id": "b966795d",
   "metadata": {},
   "outputs": [],
   "source": [
    "ist=[12,3,5,6,7,8,9]\n",
    "list2=(filter(lambda x:(x%2==0),ist))\n"
   ]
  },
  {
   "cell_type": "code",
   "execution_count": 64,
   "id": "3dd71b11",
   "metadata": {},
   "outputs": [],
   "source": [
    "final=list2"
   ]
  },
  {
   "cell_type": "code",
   "execution_count": null,
   "id": "8ea3f549",
   "metadata": {},
   "outputs": [],
   "source": []
  }
 ],
 "metadata": {
  "kernelspec": {
   "display_name": "Python 3 (ipykernel)",
   "language": "python",
   "name": "python3"
  },
  "language_info": {
   "codemirror_mode": {
    "name": "ipython",
    "version": 3
   },
   "file_extension": ".py",
   "mimetype": "text/x-python",
   "name": "python",
   "nbconvert_exporter": "python",
   "pygments_lexer": "ipython3",
   "version": "3.9.13"
  }
 },
 "nbformat": 4,
 "nbformat_minor": 5
}
