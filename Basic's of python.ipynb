{
 "cells": [
  {
   "cell_type": "code",
   "execution_count": 19,
   "id": "271a852a",
   "metadata": {},
   "outputs": [
    {
     "name": "stdout",
     "output_type": "stream",
     "text": [
      "Start python\n"
     ]
    }
   ],
   "source": [
    "print(\"Start python\")"
   ]
  },
  {
   "cell_type": "code",
   "execution_count": 2,
   "id": "9f522c12",
   "metadata": {},
   "outputs": [
    {
     "name": "stdout",
     "output_type": "stream",
     "text": [
      "please enter your name : sahil amin buhrooo\n",
      "sahil amin buhrooo\n"
     ]
    }
   ],
   "source": [
    "name = input(\"please enter your name : \")\n",
    "print(name)"
   ]
  },
  {
   "cell_type": "code",
   "execution_count": 5,
   "id": "f7b5597d",
   "metadata": {},
   "outputs": [
    {
     "name": "stdout",
     "output_type": "stream",
     "text": [
      "enter value of num1: 12\n",
      "enter value of num2: 12\n",
      "the sum of num1 and num2 is 24\n"
     ]
    }
   ],
   "source": [
    "num1 = int(input(\"enter value of num1: \"))\n",
    "num2 = int(input(\"enter value of num2: \"))\n",
    "sum = num1 +num2 \n",
    "print(\"the sum of num1 and num2 is \"+ str(sum))"
   ]
  },
  {
   "cell_type": "code",
   "execution_count": 18,
   "id": "5bc593af",
   "metadata": {},
   "outputs": [
    {
     "name": "stdout",
     "output_type": "stream",
     "text": [
      "SAHIL AMIN\n",
      "sahil amin\n",
      "6\n",
      "rashid amin\n",
      "True\n",
      "sahil amin\n"
     ]
    }
   ],
   "source": [
    "Name= \"sahil amin\";\n",
    "print(Name.upper()) \n",
    "print(Name.lower())\n",
    "print(Name.find(\"amin\"))\n",
    "print(Name.replace(\"sahil\",\"rashid\"))\n",
    "print(\"amin\" in Name)\n",
    "print(Name) "
   ]
  },
  {
   "cell_type": "code",
   "execution_count": 21,
   "id": "86b4b94a",
   "metadata": {},
   "outputs": [
    {
     "name": "stdout",
     "output_type": "stream",
     "text": [
      "entr val of n1 :12\n",
      "entr val of n2 :12\n",
      "entr op :4\n",
      "maaf kar\n"
     ]
    }
   ],
   "source": [
    "n1=int(input(\"entr val of n1 :\"))\n",
    "n2=int(input(\"entr val of n2 :\"))\n",
    "op= input(\"entr op :\")\n",
    "if op== \"+\":\n",
    "    print(n1+n2)\n",
    "elif op== \"-\":\n",
    "    print(n1-n2)\n",
    "elif op== \"*\":\n",
    "    print(n1*n2)\n",
    "elif op== \"/\":\n",
    "    print(n1/n2)\n",
    "elif op== \"%\":\n",
    "    print(n1%n2)\n",
    "else:\n",
    "    print(\"maaf kar\")"
   ]
  },
  {
   "cell_type": "code",
   "execution_count": 22,
   "id": "d9cf17ba",
   "metadata": {},
   "outputs": [
    {
     "name": "stdout",
     "output_type": "stream",
     "text": [
      "range(0, 5)\n"
     ]
    }
   ],
   "source": [
    "print(range(5))"
   ]
  },
  {
   "cell_type": "code",
   "execution_count": 27,
   "id": "fd767035",
   "metadata": {},
   "outputs": [
    {
     "name": "stdout",
     "output_type": "stream",
     "text": [
      "*\n",
      "**\n",
      "***\n",
      "****\n",
      "*****\n",
      "*****\n",
      "****\n",
      "***\n",
      "**\n",
      "*\n",
      "\n"
     ]
    }
   ],
   "source": [
    "i=1\n",
    "while(i<=5):\n",
    "    print(i*\"*\")\n",
    "    i+=1\n",
    "    \n",
    "n=5\n",
    "while(n>=0):\n",
    "    print(n*\"*\")\n",
    "    n-=1"
   ]
  },
  {
   "cell_type": "code",
   "execution_count": 40,
   "id": "bd2e4766",
   "metadata": {},
   "outputs": [
    {
     "name": "stdout",
     "output_type": "stream",
     "text": [
      "[100, 99, 98, 97, 96, 95, 94]\n",
      "100\n",
      "99\n",
      "98\n",
      "97\n",
      "96\n",
      "95\n",
      "94\n",
      "7\n"
     ]
    }
   ],
   "source": [
    "Score=[99,98,97,96,95,94]\n",
    "Score.insert(0,100)\n",
    "print(Score)\n",
    "for i in Score:\n",
    "    print(i)\n",
    "print(len(Score))"
   ]
  },
  {
   "cell_type": "code",
   "execution_count": 44,
   "id": "cf1c4074",
   "metadata": {},
   "outputs": [
    {
     "name": "stdout",
     "output_type": "stream",
     "text": [
      "sahil\n",
      "aqsa\n",
      "ubair\n"
     ]
    }
   ],
   "source": [
    "Students=[\"sahil\",\"aqsa\",\"basit\",\"ubair\"]\n",
    "for name in Students:\n",
    "    if name == \"basit\":\n",
    "        continue   #break/continue\n",
    "    print(name)"
   ]
  },
  {
   "cell_type": "code",
   "execution_count": 52,
   "id": "40fcc707",
   "metadata": {},
   "outputs": [
    {
     "name": "stdout",
     "output_type": "stream",
     "text": [
      "(21, 22, 23, 24, 25, 26, 27)\n",
      "1\n",
      "2\n",
      "21\n",
      "22\n",
      "23\n",
      "24\n",
      "25\n",
      "26\n",
      "27\n"
     ]
    }
   ],
   "source": [
    "tup=(21,22,23,24,25,26,27)\n",
    "print(tup)\n",
    "print(tup.count(24))\n",
    "print(tup.index(23))\n",
    "for f in tup:\n",
    "    print(f)"
   ]
  },
  {
   "cell_type": "code",
   "execution_count": 57,
   "id": "12dccf96",
   "metadata": {},
   "outputs": [
    {
     "name": "stdout",
     "output_type": "stream",
     "text": [
      "1\n",
      "2\n",
      "3\n",
      "4\n",
      "5\n",
      "6\n",
      "7\n",
      "8\n",
      "9\n"
     ]
    }
   ],
   "source": [
    "st ={1,2,3,4,5,6,7,8,9}\n",
    "for i  in st:\n",
    "    print(i)"
   ]
  },
  {
   "cell_type": "code",
   "execution_count": null,
   "id": "e9d67e57",
   "metadata": {},
   "outputs": [],
   "source": []
  },
  {
   "cell_type": "code",
   "execution_count": 65,
   "id": "df74ca5e",
   "metadata": {},
   "outputs": [
    {
     "name": "stdout",
     "output_type": "stream",
     "text": [
      "{'physics': 22, 'chemistry': 23, 'biology': 24}\n",
      "22\n",
      "{'physics': 22, 'chemistry': 23, 'biology': 24, 'jafer': 99}\n"
     ]
    }
   ],
   "source": [
    "dic={\"physics\":22,\"chemistry\":23,\"biology\":24}\n",
    "print(dic)\n",
    "print(dic[\"physics\"])\n",
    "dic[\"jafer\"]=99\n",
    "print(dic)"
   ]
  },
  {
   "cell_type": "code",
   "execution_count": 67,
   "id": "5fb29c06",
   "metadata": {},
   "outputs": [
    {
     "name": "stdout",
     "output_type": "stream",
     "text": [
      "3\n"
     ]
    }
   ],
   "source": [
    "\n",
    "def cal(a,b):\n",
    "    print(a+b)\n",
    "cal(1,2)"
   ]
  },
  {
   "cell_type": "code",
   "execution_count": null,
   "id": "7869f36d",
   "metadata": {},
   "outputs": [],
   "source": []
  }
 ],
 "metadata": {
  "kernelspec": {
   "display_name": "Python 3 (ipykernel)",
   "language": "python",
   "name": "python3"
  },
  "language_info": {
   "codemirror_mode": {
    "name": "ipython",
    "version": 3
   },
   "file_extension": ".py",
   "mimetype": "text/x-python",
   "name": "python",
   "nbconvert_exporter": "python",
   "pygments_lexer": "ipython3",
   "version": "3.9.13"
  }
 },
 "nbformat": 4,
 "nbformat_minor": 5
}
